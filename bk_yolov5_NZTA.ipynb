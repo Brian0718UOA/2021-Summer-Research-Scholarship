{
  "nbformat": 4,
  "nbformat_minor": 0,
  "metadata": {
    "colab": {
      "name": "bk_yolov5_NZTA.ipynb",
      "provenance": [],
      "include_colab_link": true
    },
    "kernelspec": {
      "display_name": "Python 3",
      "language": "python",
      "name": "python3"
    },
    "language_info": {
      "codemirror_mode": {
        "name": "ipython",
        "version": 3
      },
      "file_extension": ".py",
      "mimetype": "text/x-python",
      "name": "python",
      "nbconvert_exporter": "python",
      "pygments_lexer": "ipython3",
      "version": "3.8.8"
    }
  },
  "cells": [
    {
      "cell_type": "markdown",
      "metadata": {
        "id": "view-in-github",
        "colab_type": "text"
      },
      "source": [
        "<a href=\"https://colab.research.google.com/github/Brian0718UOA/2021-Summer-Research-Scholarship/blob/main/bk_yolov5_NZTA.ipynb\" target=\"_parent\"><img src=\"https://colab.research.google.com/assets/colab-badge.svg\" alt=\"Open In Colab\"/></a>"
      ]
    },
    {
      "cell_type": "markdown",
      "metadata": {
        "id": "HJjMEq8RF_OF"
      },
      "source": [
        "# Setup\n"
      ]
    },
    {
      "cell_type": "code",
      "metadata": {
        "colab": {
          "base_uri": "https://localhost:8080/"
        },
        "id": "zFtdXJtvcTMC",
        "outputId": "3621de87-8105-4c40-fc63-50ab9b45e328"
      },
      "source": [
        "from google.colab import drive\n",
        "drive.mount('/content/drive')"
      ],
      "execution_count": 1,
      "outputs": [
        {
          "output_type": "stream",
          "name": "stdout",
          "text": [
            "Mounted at /content/drive\n"
          ]
        }
      ]
    },
    {
      "cell_type": "code",
      "metadata": {
        "colab": {
          "base_uri": "https://localhost:8080/"
        },
        "id": "kWxo7eL7chEF",
        "outputId": "51269a2b-a024-4e4f-fc8c-65acd02e4375"
      },
      "source": [
        "!ls\n",
        "# change directory to yolov5 folder\n",
        "%cd drive/MyDrive/Colab \\Notebooks/yolov5"
      ],
      "execution_count": 6,
      "outputs": [
        {
          "output_type": "stream",
          "name": "stdout",
          "text": [
            "drive  sample_data\n",
            "/content/drive/MyDrive/Colab Notebooks/yolov5\n"
          ]
        }
      ]
    },
    {
      "cell_type": "code",
      "metadata": {
        "id": "ogmteREhGD5N"
      },
      "source": [
        "# do not need to clone (i.e run this cell) if yolov5 folder is uploaded to Google Colab\n",
        "# !git clone https://github.com/ultralytics/yolov5.git\n",
        "# %cd yolov5/\n",
        "# !pip install -U -r requirements.txt"
      ],
      "execution_count": null,
      "outputs": []
    },
    {
      "cell_type": "markdown",
      "metadata": {
        "id": "Gv3cco4jGNRY"
      },
      "source": [
        "# Upload files as zip files from local machine"
      ]
    },
    {
      "cell_type": "code",
      "metadata": {
        "id": "rXJ327Y0GQMu"
      },
      "source": [
        "from google.colab import files\n",
        "uploaded = files.upload()"
      ],
      "execution_count": null,
      "outputs": []
    },
    {
      "cell_type": "code",
      "metadata": {
        "id": "Vp9f5EFUHR20"
      },
      "source": [
        "import shutil\n",
        "shutil.move(\"/content/NZTA.zip\", \"/content/yolov5/data\")  # move NZTA.zip file into data folder"
      ],
      "execution_count": null,
      "outputs": []
    },
    {
      "cell_type": "code",
      "metadata": {
        "id": "XYK9dVkqHVn0"
      },
      "source": [
        "%cd yolov5/data/\n",
        "!unzip NZTA.zip  # zip file to folder with images"
      ],
      "execution_count": null,
      "outputs": []
    },
    {
      "cell_type": "markdown",
      "metadata": {
        "id": "RGS2tuUFeAlr"
      },
      "source": [
        "# Upload files from URL"
      ]
    },
    {
      "cell_type": "code",
      "metadata": {
        "colab": {
          "base_uri": "https://localhost:8080/"
        },
        "id": "EnQk-7qXd_1X",
        "outputId": "4c6c63ac-f2cf-4a88-c8ba-2428c9afb49b"
      },
      "source": [
        "import requests\n",
        "\n",
        "url = input(\"paste jpg url: \")\n",
        "\n",
        "response = requests.get(url, stream = True)\n",
        "\n",
        "text_file = open(\"NZTA_cctv.jpg\", \"wb\")\n",
        "for chunk in response.iter_content(chunk_size = 1024):\n",
        "  text_file.write(chunk)\n",
        "\n",
        "\n",
        "text_file.close()"
      ],
      "execution_count": 7,
      "outputs": [
        {
          "name": "stdout",
          "output_type": "stream",
          "text": [
            "paste jpg url: https://www.trafficnz.info/camera/653.jpg\n"
          ]
        }
      ]
    },
    {
      "cell_type": "code",
      "metadata": {
        "id": "KZsWGD7qLBTv"
      },
      "source": [
        "# for saving multiple urls as jpg into destined folder so that they can be inferenced together\n",
        "import requests\n",
        "\n",
        "# save a list of urls into a list and convert the urls to jpg\n",
        "url_list = [] \n",
        "url = input(\"input jpg url: \")\n",
        "while url != \"done\":\n",
        "  url_list.append(url)\n",
        "  url = input(\"input jpg url or type done if no more inputs: \")\n",
        "print(url_list)\n",
        "\n",
        "for url in url_list:\n",
        "  response = requests.get(url, stream = True)\n",
        "\n",
        "  jpg_file = open('/content/sample_data/'+str(url[-7:-4])+'.jpg', 'wb')  # change path to desired  \n",
        "  for chunk in response.iter_content(chunk_size = 1024):\n",
        "    jpg_file.write(chunk)\n",
        "  jpg_file.close()\n",
        "\n"
      ],
      "execution_count": null,
      "outputs": []
    },
    {
      "cell_type": "markdown",
      "metadata": {
        "id": "as3vjjNVH4cX"
      },
      "source": [
        "# Inference"
      ]
    },
    {
      "cell_type": "code",
      "metadata": {
        "id": "5lrccKGlH3FW"
      },
      "source": [
        "#%cd yolov5\n",
        "#%cd ../\n",
        "!python detect.py --weights yolov5s.pt --img 640 --conf 0.6 --source NZTA/"
      ],
      "execution_count": null,
      "outputs": []
    },
    {
      "cell_type": "code",
      "metadata": {
        "colab": {
          "base_uri": "https://localhost:8080/"
        },
        "id": "AC-ATHj0cP_Z",
        "outputId": "08ec16c1-fe10-46b6-f480-956eca45321d"
      },
      "source": [
        "# inferencing the image from url\n",
        "!python detect.py --weights yolov5s.pt --img 640 --conf 0.2 --source NZTA_cctv.jpg"
      ],
      "execution_count": 8,
      "outputs": [
        {
          "output_type": "stream",
          "name": "stdout",
          "text": [
            "Downloading https://ultralytics.com/assets/Arial.ttf to /root/.config/Ultralytics/Arial.ttf...\n",
            "\u001b[34m\u001b[1mdetect: \u001b[0mweights=['yolov5s.pt'], source=NZTA_cctv.jpg, imgsz=[640, 640], conf_thres=0.2, iou_thres=0.45, max_det=1000, device=, view_img=False, save_txt=False, save_conf=False, save_crop=False, nosave=False, classes=None, agnostic_nms=False, augment=False, visualize=False, update=False, project=runs/detect, name=exp, exist_ok=False, line_thickness=3, hide_labels=False, hide_conf=False, half=False, dnn=False\n",
            "\u001b[31m\u001b[1mrequirements:\u001b[0m PyYAML>=5.3.1 not found and is required by YOLOv5, attempting auto-update...\n",
            "Collecting PyYAML>=5.3.1\n",
            "  Downloading PyYAML-6.0-cp37-cp37m-manylinux_2_5_x86_64.manylinux1_x86_64.manylinux_2_12_x86_64.manylinux2010_x86_64.whl (596 kB)\n",
            "Installing collected packages: PyYAML\n",
            "  Attempting uninstall: PyYAML\n",
            "    Found existing installation: PyYAML 3.13\n",
            "    Uninstalling PyYAML-3.13:\n",
            "      Successfully uninstalled PyYAML-3.13\n",
            "Successfully installed PyYAML-6.0\n",
            "\n",
            "\u001b[31m\u001b[1mrequirements:\u001b[0m 1 package updated per /content/drive/My Drive/Colab Notebooks/yolov5/requirements.txt\n",
            "\u001b[31m\u001b[1mrequirements:\u001b[0m ⚠️ \u001b[1mRestart runtime or rerun command for updates to take effect\u001b[0m\n",
            "\n",
            "YOLOv5 🚀 2021-11-14 torch 1.10.0+cu111 CPU\n",
            "\n",
            "Fusing layers... \n",
            "Model Summary: 213 layers, 7225885 parameters, 0 gradients\n",
            "image 1/1 /content/drive/My Drive/Colab Notebooks/yolov5/NZTA_cctv.jpg: 544x640 4 cars, 2 trucks, Done. (0.537s)\n",
            "Speed: 3.3ms pre-process, 536.7ms inference, 15.9ms NMS per image at shape (1, 3, 640, 640)\n",
            "Results saved to \u001b[1mruns/detect/exp6\u001b[0m\n"
          ]
        }
      ]
    }
  ]
}