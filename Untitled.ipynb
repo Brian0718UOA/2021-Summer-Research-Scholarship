{
 "cells": [
  {
   "cell_type": "code",
   "execution_count": 5,
   "id": "adb687a7",
   "metadata": {},
   "outputs": [],
   "source": [
    "import pandas as pd"
   ]
  },
  {
   "cell_type": "code",
   "execution_count": null,
   "id": "32840f50",
   "metadata": {},
   "outputs": [],
   "source": [
    "numbers = pd.Series([1,2,3,4,5])  # call class Series in pandas package\n",
    "# returns one dimensional array with an index that labels the data"
   ]
  },
  {
   "cell_type": "code",
   "execution_count": 10,
   "id": "56a40d7b",
   "metadata": {},
   "outputs": [
    {
     "name": "stdout",
     "output_type": "stream",
     "text": [
      "0    1\n",
      "1    2\n",
      "2    3\n",
      "3    4\n",
      "4    5\n",
      "dtype: int64\n"
     ]
    }
   ],
   "source": [
    "print(numbers)"
   ]
  },
  {
   "cell_type": "code",
   "execution_count": 13,
   "id": "616fc066",
   "metadata": {},
   "outputs": [
    {
     "name": "stdout",
     "output_type": "stream",
     "text": [
      "[1 2 3 4 5]\n"
     ]
    }
   ],
   "source": [
    "print(numbers.values)  # returns just the numbers in array without indexes"
   ]
  },
  {
   "cell_type": "code",
   "execution_count": 11,
   "id": "65be18d5",
   "metadata": {},
   "outputs": [
    {
     "name": "stdout",
     "output_type": "stream",
     "text": [
      "RangeIndex(start=0, stop=5, step=1)\n"
     ]
    }
   ],
   "source": [
    "print(numbers.index)  # returns the indexes of the series"
   ]
  },
  {
   "cell_type": "code",
   "execution_count": 23,
   "id": "562cfa9c",
   "metadata": {},
   "outputs": [
    {
     "name": "stdout",
     "output_type": "stream",
     "text": [
      "Auck     1.2\n",
      "Chch     0.8\n",
      "Welly    1.1\n",
      "Ham      0.6\n",
      "dtype: float64\n"
     ]
    }
   ],
   "source": [
    "house_price = [1.2, 0.8, 1.1, 0.6]\n",
    "house_price_df = pd.Series(house_price, index = [\"Auck\", \"Chch\", \"Welly\", \"Ham\"])\n",
    "print(house_price_df)\n",
    "# Change the index to meaningful names"
   ]
  },
  {
   "cell_type": "code",
   "execution_count": 24,
   "id": "89174f89",
   "metadata": {},
   "outputs": [
    {
     "name": "stdout",
     "output_type": "stream",
     "text": [
      "Price of house in Auckland is 1.2 million\n"
     ]
    }
   ],
   "source": [
    "# Find the price of house for Auckland using string indexes\n",
    "print(f\"Price of house in Auckland is\", house_price_df[\"Auck\"], \"million\")"
   ]
  },
  {
   "cell_type": "code",
   "execution_count": 25,
   "id": "1402dd77",
   "metadata": {},
   "outputs": [
    {
     "name": "stdout",
     "output_type": "stream",
     "text": [
      "Chch     0.8\n",
      "Welly    1.1\n",
      "dtype: float64\n"
     ]
    }
   ],
   "source": [
    "# Slicing data out of the series is also possible\n",
    "print(house_price_df[1:3])"
   ]
  },
  {
   "cell_type": "code",
   "execution_count": 39,
   "id": "a39e52bc",
   "metadata": {},
   "outputs": [
    {
     "name": "stdout",
     "output_type": "stream",
     "text": [
      "Auck     1.2\n",
      "Chch     0.8\n",
      "Welly    1.1\n",
      "Ham      0.6\n",
      "Gisb     0.9\n",
      "dtype: float64\n"
     ]
    }
   ],
   "source": [
    "# Add new data to the end of the series using .append command\n",
    "new_series = pd.Series([0.9], index=[\"Gisb\"])\n",
    "house_price_df = house_price_df.append(new_series)\n",
    "print(house_price_df)"
   ]
  },
  {
   "cell_type": "code",
   "execution_count": 40,
   "id": "e1900c62",
   "metadata": {},
   "outputs": [
    {
     "name": "stdout",
     "output_type": "stream",
     "text": [
      "Auck     1.2\n",
      "Chch     0.8\n",
      "Welly    1.1\n",
      "Ham      0.6\n",
      "dtype: float64\n"
     ]
    }
   ],
   "source": [
    "# Remove Gisborne from the series\n",
    "house_price_df = house_price_df.drop([\"Gisb\"])\n",
    "print(house_price_df)"
   ]
  },
  {
   "cell_type": "code",
   "execution_count": 41,
   "id": "cf7a1383",
   "metadata": {},
   "outputs": [
    {
     "name": "stdout",
     "output_type": "stream",
     "text": [
      "Auck     100\n",
      "Chch     101\n",
      "Welly    102\n",
      "Ham      103\n",
      "dtype: int64\n"
     ]
    }
   ],
   "source": [
    "# Convert Python array to Pandas Series.\n",
    "array0 = [100, 101, 102, 103]\n",
    "pandas_series = pd.Series(array0)\n",
    "pandas_series.index = [\"Auck\", \"Chch\", \"Welly\", \"Ham\"]\n",
    "print(pandas_series)"
   ]
  },
  {
   "cell_type": "code",
   "execution_count": 46,
   "id": "761c08e9",
   "metadata": {},
   "outputs": [],
   "source": [
    "# Convert Numpy package to series in Pandas\n",
    "import numpy as np"
   ]
  },
  {
   "cell_type": "code",
   "execution_count": 47,
   "id": "7e4d999b",
   "metadata": {},
   "outputs": [
    {
     "name": "stdout",
     "output_type": "stream",
     "text": [
      "[ 0.46649404 -1.24084379  0.25895684  2.05275899]\n"
     ]
    }
   ],
   "source": [
    "n0 = np.random.randn(4)\n",
    "print(n0)"
   ]
  },
  {
   "cell_type": "code",
   "execution_count": 87,
   "id": "4bf78974",
   "metadata": {},
   "outputs": [
    {
     "name": "stdout",
     "output_type": "stream",
     "text": [
      "Auck     0.466494\n",
      "Chch    -1.240844\n",
      "Welly    0.258957\n",
      "Ham      2.052759\n",
      "dtype: float64\n"
     ]
    }
   ],
   "source": [
    "numpy_2_pandas = pd.Series(n0)\n",
    "numpy_2_pandas.index = [\"Auck\", \"Chch\", \"Welly\", \"Ham\"]\n",
    "print(numpy_2_pandas)"
   ]
  },
  {
   "cell_type": "code",
   "execution_count": 51,
   "id": "4186de27",
   "metadata": {},
   "outputs": [
    {
     "name": "stdout",
     "output_type": "stream",
     "text": [
      "Cities\n",
      "Auck     1.2\n",
      "Chch     0.8\n",
      "Welly    1.1\n",
      "Ham      0.6\n",
      "Name: House Prices, dtype: float64\n"
     ]
    }
   ],
   "source": [
    "# Name the array of values and index meaningful labels\n",
    "house_price_df.name = \"House Prices\"\n",
    "house_price_df.index.name = \"Cities\"\n",
    "print(house_price_df)"
   ]
  },
  {
   "cell_type": "code",
   "execution_count": 61,
   "id": "01780f5f",
   "metadata": {},
   "outputs": [
    {
     "name": "stdout",
     "output_type": "stream",
     "text": [
      "cities\n",
      "Auck     1.2\n",
      "Chch     0.8\n",
      "Welly    1.1\n",
      "Ham      0.6\n",
      "dtype: float64\n"
     ]
    }
   ],
   "source": [
    "# Alternatively, use dictionary and then convert to pandas series\n",
    "house_price_dic = {\"Auck\": 1.2, \n",
    "                   \"Chch\": 0.8, \n",
    "                   \"Welly\": 1.1, \n",
    "                   \"Ham\": 0.6}\n",
    "house_price_dic2series = pd.Series(house_price_dic)\n",
    "house_price_dic2series.index.name = \"cities\"\n",
    "print(house_price_dic2series)"
   ]
  },
  {
   "cell_type": "code",
   "execution_count": 85,
   "id": "de0a4135",
   "metadata": {},
   "outputs": [
    {
     "name": "stdout",
     "output_type": "stream",
     "text": [
      "cities with population greater than 350,000\n",
      "Chch     2312\n",
      "Welly     442\n",
      "Ham      3322\n",
      "Name: population, dtype: int64\n",
      "cities with population less than 1,000,000\n",
      "Auck     123\n",
      "Welly    442\n",
      "Name: population, dtype: int64\n"
     ]
    }
   ],
   "source": [
    "# Filter the data\n",
    "# Filter cities with more than 350,000 people\n",
    "\n",
    "population = [123, 2312, 442, 3322]\n",
    "pop_series = pd.Series(population, index=[\"Auck\", \"Chch\", \"Welly\", \"Ham\"])\n",
    "pop_series.name = \"population\"\n",
    "\n",
    "print(f'cities with population greater than 350,000\\n{pop_series[pop_series>350]}')\n",
    "print(f'cities with population less than 1,000,000\\n{pop_series[pop_series<1000]}')"
   ]
  },
  {
   "cell_type": "code",
   "execution_count": 138,
   "id": "0d7320bf",
   "metadata": {},
   "outputs": [
    {
     "ename": "SyntaxError",
     "evalue": "invalid syntax (<ipython-input-138-6428379cccd9>, line 5)",
     "output_type": "error",
     "traceback": [
      "\u001b[1;36m  File \u001b[1;32m\"<ipython-input-138-6428379cccd9>\"\u001b[1;36m, line \u001b[1;32m5\u001b[0m\n\u001b[1;33m    print(df.0.value_counts().index[-1])\u001b[0m\n\u001b[1;37m            ^\u001b[0m\n\u001b[1;31mSyntaxError\u001b[0m\u001b[1;31m:\u001b[0m invalid syntax\n"
     ]
    }
   ],
   "source": [
    "# Create a DataFrame in Pandas by concatenating multiple series\n",
    "# Alternatively, we can use pd.DataFrame() class to dictionaries\n",
    "df = pd.concat([house_price_df, pop_series, numpy_2_pandas], axis=1)\n",
    "print(df)\n"
   ]
  },
  {
   "cell_type": "code",
   "execution_count": 141,
   "id": "cd4c35cc",
   "metadata": {},
   "outputs": [
    {
     "name": "stdout",
     "output_type": "stream",
     "text": [
      "       Price  Population     Score\n",
      "Auck     1.2         123  0.466494\n",
      "Chch     0.8        2312 -1.240844\n",
      "Welly    1.1         442  0.258957\n",
      "Ham      0.6        3322  2.052759\n",
      "1.1\n"
     ]
    }
   ],
   "source": [
    "# Add meaning column name to the df\n",
    "df.columns = ['Price', 'Population', 'Score']\n",
    "print(df)"
   ]
  },
  {
   "cell_type": "code",
   "execution_count": 98,
   "id": "9c226b44",
   "metadata": {},
   "outputs": [
    {
     "name": "stdout",
     "output_type": "stream",
     "text": [
      "       Population  Price     Score\n",
      "Auck         1600    1.2  0.466494\n",
      "Chch         2312    0.8 -1.240844\n",
      "Welly         442    1.1  0.258957\n",
      "Ham          3322    0.6  2.052759\n"
     ]
    }
   ],
   "source": [
    "# Rearrange the order of the columns\n",
    "df_rearranged = df[['Population', 'Price', 'Score']]\n",
    "print(df_rearranged)"
   ]
  },
  {
   "cell_type": "code",
   "execution_count": 91,
   "id": "22264509",
   "metadata": {},
   "outputs": [
    {
     "name": "stdout",
     "output_type": "stream",
     "text": [
      "Index(['Price', 'Population', 'Score'], dtype='object')\n"
     ]
    }
   ],
   "source": [
    "# the columns are the index for data frames\n",
    "print(df.columns)"
   ]
  },
  {
   "cell_type": "code",
   "execution_count": 93,
   "id": "e097e353",
   "metadata": {},
   "outputs": [
    {
     "name": "stdout",
     "output_type": "stream",
     "text": [
      "Auck     1.2\n",
      "Chch     0.8\n",
      "Welly    1.1\n",
      "Ham      0.6\n",
      "Name: Price, dtype: float64\n",
      "Auck      123\n",
      "Chch     2312\n",
      "Welly     442\n",
      "Ham      3322\n",
      "Name: Population, dtype: int64\n",
      "Auck     0.466494\n",
      "Chch    -1.240844\n",
      "Welly    0.258957\n",
      "Ham      2.052759\n",
      "Name: Score, dtype: float64\n"
     ]
    }
   ],
   "source": [
    "# Access columns using the indexes or by attribute\n",
    "print(df['Price'])\n",
    "print(df['Population'])\n",
    "print(df['Score'])"
   ]
  },
  {
   "cell_type": "code",
   "execution_count": 106,
   "id": "f035ba55",
   "metadata": {},
   "outputs": [
    {
     "name": "stdout",
     "output_type": "stream",
     "text": [
      "House Prices       0.800000\n",
      "population      2312.000000\n",
      "0                 -1.240844\n",
      "Name: Chch, dtype: float64\n",
      "      House Prices  population         0\n",
      "Auck           1.2         123  0.466494\n",
      "Ham            0.6        3322  2.052759\n"
     ]
    }
   ],
   "source": [
    "# loc attribute returns one or more specified rows\n",
    "print(df.loc['Chch'])\n",
    "print(df.loc[['Auck', 'Ham']])  # double square brackets for list of indexes"
   ]
  },
  {
   "cell_type": "code",
   "execution_count": 96,
   "id": "b93e9794",
   "metadata": {},
   "outputs": [
    {
     "name": "stdout",
     "output_type": "stream",
     "text": [
      "       Price  Population     Score\n",
      "Auck     1.2        1600  0.466494\n",
      "Chch     0.8        2312 -1.240844\n",
      "Welly    1.1         442  0.258957\n",
      "Ham      0.6        3322  2.052759\n"
     ]
    }
   ],
   "source": [
    "# We can change the values in the data frame using loc\n",
    "df.loc['Auck', 'Population'] = 1600\n",
    "print(df)"
   ]
  },
  {
   "cell_type": "code",
   "execution_count": 112,
   "id": "8b538329",
   "metadata": {},
   "outputs": [
    {
     "name": "stdout",
     "output_type": "stream",
     "text": [
      "1.2\n"
     ]
    }
   ],
   "source": [
    "# Alternatively, we can use .iloc and numeric index to locate values in df\n",
    "print(df.iloc[0, 0])"
   ]
  },
  {
   "cell_type": "code",
   "execution_count": 149,
   "id": "f1ff66e5",
   "metadata": {},
   "outputs": [
    {
     "name": "stdout",
     "output_type": "stream",
     "text": [
      "       Price  Population     Score\n",
      "Auck     1.2         123  0.466494\n",
      "Chch     0.8        2312 -1.240844\n",
      "Welly    1.1         442  0.258957\n",
      "       Price\n",
      "Auck     1.2\n",
      "Chch     0.8\n",
      "Welly    1.1\n",
      "Ham      0.6\n",
      "Auck     1.2\n",
      "Welly    1.1\n",
      "Name: Price, dtype: float64\n",
      "Price  Population  Score    \n",
      "0.6    3322         2.052759    1\n",
      "0.8    2312        -1.240844    1\n",
      "1.1    442          0.258957    1\n",
      "1.2    123          0.466494    1\n",
      "dtype: int64\n"
     ]
    }
   ],
   "source": [
    "# A slice object with labels\n",
    "print(df.loc['Auck':'Welly'])\n",
    "print(df.iloc[:, 0:1])\n",
    "print(df.Price[[\"Auck\", \"Welly\"]])"
   ]
  },
  {
   "cell_type": "code",
   "execution_count": null,
   "id": "76c424f7",
   "metadata": {},
   "outputs": [],
   "source": [
    "# We can add a new column to the dataframe but it either needs to be the \n",
    "# same length as the dataframe or should be just one similar value for the \n",
    "# whole column.\n",
    "# Similer to series, we can use .drop command to remove columns or rows in df"
   ]
  },
  {
   "cell_type": "code",
   "execution_count": 118,
   "id": "7825a0a8",
   "metadata": {},
   "outputs": [
    {
     "name": "stdout",
     "output_type": "stream",
     "text": [
      "       House Prices  population         0\n",
      "Auck            1.2         123  0.466494\n",
      "Welly           1.1         442  0.258957\n",
      "Ham             0.6        3322  2.052759\n"
     ]
    }
   ],
   "source": [
    "# Remove a row in df\n",
    "df_Chch_removed = df.drop(\"Chch\")\n",
    "print(df_Chch_removed)"
   ]
  },
  {
   "cell_type": "code",
   "execution_count": 119,
   "id": "d85dce4c",
   "metadata": {},
   "outputs": [
    {
     "ename": "FileNotFoundError",
     "evalue": "[Errno 2] No such file or directory: 'nz_cars.csv'",
     "output_type": "error",
     "traceback": [
      "\u001b[1;31m---------------------------------------------------------------------------\u001b[0m",
      "\u001b[1;31mFileNotFoundError\u001b[0m                         Traceback (most recent call last)",
      "\u001b[1;32m<ipython-input-119-8afe321a2a02>\u001b[0m in \u001b[0;36m<module>\u001b[1;34m\u001b[0m\n\u001b[0;32m      1\u001b[0m \u001b[1;31m# Importing data to Pandas\u001b[0m\u001b[1;33m\u001b[0m\u001b[1;33m\u001b[0m\u001b[1;33m\u001b[0m\u001b[0m\n\u001b[1;32m----> 2\u001b[1;33m \u001b[0mdf\u001b[0m \u001b[1;33m=\u001b[0m \u001b[0mpd\u001b[0m\u001b[1;33m.\u001b[0m\u001b[0mread_csv\u001b[0m\u001b[1;33m(\u001b[0m\u001b[1;34m\"nz_cars.csv\"\u001b[0m\u001b[1;33m)\u001b[0m\u001b[1;33m\u001b[0m\u001b[1;33m\u001b[0m\u001b[0m\n\u001b[0m",
      "\u001b[1;32m~\\anaconda3\\lib\\site-packages\\pandas\\io\\parsers.py\u001b[0m in \u001b[0;36mread_csv\u001b[1;34m(filepath_or_buffer, sep, delimiter, header, names, index_col, usecols, squeeze, prefix, mangle_dupe_cols, dtype, engine, converters, true_values, false_values, skipinitialspace, skiprows, skipfooter, nrows, na_values, keep_default_na, na_filter, verbose, skip_blank_lines, parse_dates, infer_datetime_format, keep_date_col, date_parser, dayfirst, cache_dates, iterator, chunksize, compression, thousands, decimal, lineterminator, quotechar, quoting, doublequote, escapechar, comment, encoding, dialect, error_bad_lines, warn_bad_lines, delim_whitespace, low_memory, memory_map, float_precision, storage_options)\u001b[0m\n\u001b[0;32m    608\u001b[0m     \u001b[0mkwds\u001b[0m\u001b[1;33m.\u001b[0m\u001b[0mupdate\u001b[0m\u001b[1;33m(\u001b[0m\u001b[0mkwds_defaults\u001b[0m\u001b[1;33m)\u001b[0m\u001b[1;33m\u001b[0m\u001b[1;33m\u001b[0m\u001b[0m\n\u001b[0;32m    609\u001b[0m \u001b[1;33m\u001b[0m\u001b[0m\n\u001b[1;32m--> 610\u001b[1;33m     \u001b[1;32mreturn\u001b[0m \u001b[0m_read\u001b[0m\u001b[1;33m(\u001b[0m\u001b[0mfilepath_or_buffer\u001b[0m\u001b[1;33m,\u001b[0m \u001b[0mkwds\u001b[0m\u001b[1;33m)\u001b[0m\u001b[1;33m\u001b[0m\u001b[1;33m\u001b[0m\u001b[0m\n\u001b[0m\u001b[0;32m    611\u001b[0m \u001b[1;33m\u001b[0m\u001b[0m\n\u001b[0;32m    612\u001b[0m \u001b[1;33m\u001b[0m\u001b[0m\n",
      "\u001b[1;32m~\\anaconda3\\lib\\site-packages\\pandas\\io\\parsers.py\u001b[0m in \u001b[0;36m_read\u001b[1;34m(filepath_or_buffer, kwds)\u001b[0m\n\u001b[0;32m    460\u001b[0m \u001b[1;33m\u001b[0m\u001b[0m\n\u001b[0;32m    461\u001b[0m     \u001b[1;31m# Create the parser.\u001b[0m\u001b[1;33m\u001b[0m\u001b[1;33m\u001b[0m\u001b[1;33m\u001b[0m\u001b[0m\n\u001b[1;32m--> 462\u001b[1;33m     \u001b[0mparser\u001b[0m \u001b[1;33m=\u001b[0m \u001b[0mTextFileReader\u001b[0m\u001b[1;33m(\u001b[0m\u001b[0mfilepath_or_buffer\u001b[0m\u001b[1;33m,\u001b[0m \u001b[1;33m**\u001b[0m\u001b[0mkwds\u001b[0m\u001b[1;33m)\u001b[0m\u001b[1;33m\u001b[0m\u001b[1;33m\u001b[0m\u001b[0m\n\u001b[0m\u001b[0;32m    463\u001b[0m \u001b[1;33m\u001b[0m\u001b[0m\n\u001b[0;32m    464\u001b[0m     \u001b[1;32mif\u001b[0m \u001b[0mchunksize\u001b[0m \u001b[1;32mor\u001b[0m \u001b[0miterator\u001b[0m\u001b[1;33m:\u001b[0m\u001b[1;33m\u001b[0m\u001b[1;33m\u001b[0m\u001b[0m\n",
      "\u001b[1;32m~\\anaconda3\\lib\\site-packages\\pandas\\io\\parsers.py\u001b[0m in \u001b[0;36m__init__\u001b[1;34m(self, f, engine, **kwds)\u001b[0m\n\u001b[0;32m    817\u001b[0m             \u001b[0mself\u001b[0m\u001b[1;33m.\u001b[0m\u001b[0moptions\u001b[0m\u001b[1;33m[\u001b[0m\u001b[1;34m\"has_index_names\"\u001b[0m\u001b[1;33m]\u001b[0m \u001b[1;33m=\u001b[0m \u001b[0mkwds\u001b[0m\u001b[1;33m[\u001b[0m\u001b[1;34m\"has_index_names\"\u001b[0m\u001b[1;33m]\u001b[0m\u001b[1;33m\u001b[0m\u001b[1;33m\u001b[0m\u001b[0m\n\u001b[0;32m    818\u001b[0m \u001b[1;33m\u001b[0m\u001b[0m\n\u001b[1;32m--> 819\u001b[1;33m         \u001b[0mself\u001b[0m\u001b[1;33m.\u001b[0m\u001b[0m_engine\u001b[0m \u001b[1;33m=\u001b[0m \u001b[0mself\u001b[0m\u001b[1;33m.\u001b[0m\u001b[0m_make_engine\u001b[0m\u001b[1;33m(\u001b[0m\u001b[0mself\u001b[0m\u001b[1;33m.\u001b[0m\u001b[0mengine\u001b[0m\u001b[1;33m)\u001b[0m\u001b[1;33m\u001b[0m\u001b[1;33m\u001b[0m\u001b[0m\n\u001b[0m\u001b[0;32m    820\u001b[0m \u001b[1;33m\u001b[0m\u001b[0m\n\u001b[0;32m    821\u001b[0m     \u001b[1;32mdef\u001b[0m \u001b[0mclose\u001b[0m\u001b[1;33m(\u001b[0m\u001b[0mself\u001b[0m\u001b[1;33m)\u001b[0m\u001b[1;33m:\u001b[0m\u001b[1;33m\u001b[0m\u001b[1;33m\u001b[0m\u001b[0m\n",
      "\u001b[1;32m~\\anaconda3\\lib\\site-packages\\pandas\\io\\parsers.py\u001b[0m in \u001b[0;36m_make_engine\u001b[1;34m(self, engine)\u001b[0m\n\u001b[0;32m   1048\u001b[0m             )\n\u001b[0;32m   1049\u001b[0m         \u001b[1;31m# error: Too many arguments for \"ParserBase\"\u001b[0m\u001b[1;33m\u001b[0m\u001b[1;33m\u001b[0m\u001b[1;33m\u001b[0m\u001b[0m\n\u001b[1;32m-> 1050\u001b[1;33m         \u001b[1;32mreturn\u001b[0m \u001b[0mmapping\u001b[0m\u001b[1;33m[\u001b[0m\u001b[0mengine\u001b[0m\u001b[1;33m]\u001b[0m\u001b[1;33m(\u001b[0m\u001b[0mself\u001b[0m\u001b[1;33m.\u001b[0m\u001b[0mf\u001b[0m\u001b[1;33m,\u001b[0m \u001b[1;33m**\u001b[0m\u001b[0mself\u001b[0m\u001b[1;33m.\u001b[0m\u001b[0moptions\u001b[0m\u001b[1;33m)\u001b[0m  \u001b[1;31m# type: ignore[call-arg]\u001b[0m\u001b[1;33m\u001b[0m\u001b[1;33m\u001b[0m\u001b[0m\n\u001b[0m\u001b[0;32m   1051\u001b[0m \u001b[1;33m\u001b[0m\u001b[0m\n\u001b[0;32m   1052\u001b[0m     \u001b[1;32mdef\u001b[0m \u001b[0m_failover_to_python\u001b[0m\u001b[1;33m(\u001b[0m\u001b[0mself\u001b[0m\u001b[1;33m)\u001b[0m\u001b[1;33m:\u001b[0m\u001b[1;33m\u001b[0m\u001b[1;33m\u001b[0m\u001b[0m\n",
      "\u001b[1;32m~\\anaconda3\\lib\\site-packages\\pandas\\io\\parsers.py\u001b[0m in \u001b[0;36m__init__\u001b[1;34m(self, src, **kwds)\u001b[0m\n\u001b[0;32m   1865\u001b[0m \u001b[1;33m\u001b[0m\u001b[0m\n\u001b[0;32m   1866\u001b[0m         \u001b[1;31m# open handles\u001b[0m\u001b[1;33m\u001b[0m\u001b[1;33m\u001b[0m\u001b[1;33m\u001b[0m\u001b[0m\n\u001b[1;32m-> 1867\u001b[1;33m         \u001b[0mself\u001b[0m\u001b[1;33m.\u001b[0m\u001b[0m_open_handles\u001b[0m\u001b[1;33m(\u001b[0m\u001b[0msrc\u001b[0m\u001b[1;33m,\u001b[0m \u001b[0mkwds\u001b[0m\u001b[1;33m)\u001b[0m\u001b[1;33m\u001b[0m\u001b[1;33m\u001b[0m\u001b[0m\n\u001b[0m\u001b[0;32m   1868\u001b[0m         \u001b[1;32massert\u001b[0m \u001b[0mself\u001b[0m\u001b[1;33m.\u001b[0m\u001b[0mhandles\u001b[0m \u001b[1;32mis\u001b[0m \u001b[1;32mnot\u001b[0m \u001b[1;32mNone\u001b[0m\u001b[1;33m\u001b[0m\u001b[1;33m\u001b[0m\u001b[0m\n\u001b[0;32m   1869\u001b[0m         \u001b[1;32mfor\u001b[0m \u001b[0mkey\u001b[0m \u001b[1;32min\u001b[0m \u001b[1;33m(\u001b[0m\u001b[1;34m\"storage_options\"\u001b[0m\u001b[1;33m,\u001b[0m \u001b[1;34m\"encoding\"\u001b[0m\u001b[1;33m,\u001b[0m \u001b[1;34m\"memory_map\"\u001b[0m\u001b[1;33m,\u001b[0m \u001b[1;34m\"compression\"\u001b[0m\u001b[1;33m)\u001b[0m\u001b[1;33m:\u001b[0m\u001b[1;33m\u001b[0m\u001b[1;33m\u001b[0m\u001b[0m\n",
      "\u001b[1;32m~\\anaconda3\\lib\\site-packages\\pandas\\io\\parsers.py\u001b[0m in \u001b[0;36m_open_handles\u001b[1;34m(self, src, kwds)\u001b[0m\n\u001b[0;32m   1360\u001b[0m         \u001b[0mLet\u001b[0m \u001b[0mthe\u001b[0m \u001b[0mreaders\u001b[0m \u001b[0mopen\u001b[0m \u001b[0mIOHanldes\u001b[0m \u001b[0mafter\u001b[0m \u001b[0mthey\u001b[0m \u001b[0mare\u001b[0m \u001b[0mdone\u001b[0m \u001b[1;32mwith\u001b[0m \u001b[0mtheir\u001b[0m \u001b[0mpotential\u001b[0m \u001b[0mraises\u001b[0m\u001b[1;33m.\u001b[0m\u001b[1;33m\u001b[0m\u001b[1;33m\u001b[0m\u001b[0m\n\u001b[0;32m   1361\u001b[0m         \"\"\"\n\u001b[1;32m-> 1362\u001b[1;33m         self.handles = get_handle(\n\u001b[0m\u001b[0;32m   1363\u001b[0m             \u001b[0msrc\u001b[0m\u001b[1;33m,\u001b[0m\u001b[1;33m\u001b[0m\u001b[1;33m\u001b[0m\u001b[0m\n\u001b[0;32m   1364\u001b[0m             \u001b[1;34m\"r\"\u001b[0m\u001b[1;33m,\u001b[0m\u001b[1;33m\u001b[0m\u001b[1;33m\u001b[0m\u001b[0m\n",
      "\u001b[1;32m~\\anaconda3\\lib\\site-packages\\pandas\\io\\common.py\u001b[0m in \u001b[0;36mget_handle\u001b[1;34m(path_or_buf, mode, encoding, compression, memory_map, is_text, errors, storage_options)\u001b[0m\n\u001b[0;32m    640\u001b[0m                 \u001b[0merrors\u001b[0m \u001b[1;33m=\u001b[0m \u001b[1;34m\"replace\"\u001b[0m\u001b[1;33m\u001b[0m\u001b[1;33m\u001b[0m\u001b[0m\n\u001b[0;32m    641\u001b[0m             \u001b[1;31m# Encoding\u001b[0m\u001b[1;33m\u001b[0m\u001b[1;33m\u001b[0m\u001b[1;33m\u001b[0m\u001b[0m\n\u001b[1;32m--> 642\u001b[1;33m             handle = open(\n\u001b[0m\u001b[0;32m    643\u001b[0m                 \u001b[0mhandle\u001b[0m\u001b[1;33m,\u001b[0m\u001b[1;33m\u001b[0m\u001b[1;33m\u001b[0m\u001b[0m\n\u001b[0;32m    644\u001b[0m                 \u001b[0mioargs\u001b[0m\u001b[1;33m.\u001b[0m\u001b[0mmode\u001b[0m\u001b[1;33m,\u001b[0m\u001b[1;33m\u001b[0m\u001b[1;33m\u001b[0m\u001b[0m\n",
      "\u001b[1;31mFileNotFoundError\u001b[0m: [Errno 2] No such file or directory: 'nz_cars.csv'"
     ]
    }
   ],
   "source": [
    "# Importing data to Pandas\n",
    "# First row in file is by default the header row\n",
    "df = pd.read_csv(\"nz_cars.csv\")"
   ]
  },
  {
   "cell_type": "code",
   "execution_count": null,
   "id": "c7bf98fe",
   "metadata": {},
   "outputs": [],
   "source": [
    "# df.to_string() prints the entire DataFrame\n",
    "# df prints only the first and last 5 rows of DataFrame\n",
    "# df.head() prints the first 5 rows\n",
    "# We can input arguments to change the number of rows displayed.\n",
    "# df.head(2) will display first 2 rows\n",
    "# df.tail() will display the last 5 lines"
   ]
  },
  {
   "cell_type": "code",
   "execution_count": null,
   "id": "cf83b5d5",
   "metadata": {},
   "outputs": [],
   "source": [
    "# We can count the number of unique values in column by \n",
    "# df.column_index.nunique() command\n",
    "# We can return the unique values in the column by \n",
    "# df.column_index.unique() command"
   ]
  },
  {
   "cell_type": "code",
   "execution_count": null,
   "id": "34aab414",
   "metadata": {},
   "outputs": [],
   "source": [
    "# We can find out the most popular value by .value_counts()"
   ]
  },
  {
   "cell_type": "code",
   "execution_count": null,
   "id": "d9146a9c",
   "metadata": {},
   "outputs": [],
   "source": []
  }
 ],
 "metadata": {
  "kernelspec": {
   "display_name": "Python 3",
   "language": "python",
   "name": "python3"
  },
  "language_info": {
   "codemirror_mode": {
    "name": "ipython",
    "version": 3
   },
   "file_extension": ".py",
   "mimetype": "text/x-python",
   "name": "python",
   "nbconvert_exporter": "python",
   "pygments_lexer": "ipython3",
   "version": "3.8.8"
  }
 },
 "nbformat": 4,
 "nbformat_minor": 5
}
