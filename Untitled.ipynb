{
 "cells": [
  {
   "cell_type": "markdown",
   "id": "ff93d720",
   "metadata": {},
   "source": [
    "## 2022 Summer Research Scholarship \n",
    "# Brian Kim 789395389\n",
    "\n",
    "\n",
    "[10 week schedule](https://docs.google.com/spreadsheets/d/1TVIaaEkD-NQGEFT1DHxg679v7wW9KBuGoCUVzvlYalY/edit#gid=0)"
   ]
  }
 ],
 "metadata": {
  "kernelspec": {
   "display_name": "Python 3",
   "language": "python",
   "name": "python3"
  },
  "language_info": {
   "codemirror_mode": {
    "name": "ipython",
    "version": 3
   },
   "file_extension": ".py",
   "mimetype": "text/x-python",
   "name": "python",
   "nbconvert_exporter": "python",
   "pygments_lexer": "ipython3",
   "version": "3.8.8"
  }
 },
 "nbformat": 4,
 "nbformat_minor": 5
}
